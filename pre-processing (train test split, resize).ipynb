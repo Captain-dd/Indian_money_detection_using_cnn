{
 "cells": [
  {
   "cell_type": "code",
   "execution_count": 27,
   "id": "a8ef22db",
   "metadata": {},
   "outputs": [],
   "source": [
    "import pandas as pd \n",
    "import numpy as np \n",
    "\n",
    "import os \n",
    "\n",
    "from tqdm import tqdm\n",
    "\n",
    "import imageio\n",
    "import cv2\n",
    "\n",
    "import random\n",
    "\n",
    "\n"
   ]
  },
  {
   "cell_type": "code",
   "execution_count": 28,
   "id": "908fc45b",
   "metadata": {},
   "outputs": [],
   "source": [
    "# listing all path of images and then split it into train and test after resizing it into 360*360 size\n",
    "ten_image = os.listdir('./raw_dataset/Rs.10/')\n",
    "twenty_image = os.listdir('./raw_dataset/Rs.20/')\n",
    "fifty_image = os.listdir('./raw_dataset/Rs.50/')\n",
    "hundred_image = os.listdir('./raw_dataset/Rs.100/')\n",
    "two_hundred_image = os.listdir('./raw_dataset/Rs.200/')\n",
    "five_hundred_image = os.listdir('./raw_dataset/Rs.500/')\n",
    "two_thoushand_image = os.listdir('./raw_dataset/Rs.2000/')\n"
   ]
  },
  {
   "cell_type": "code",
   "execution_count": 29,
   "id": "0c354a34",
   "metadata": {},
   "outputs": [],
   "source": [
    "dd = [ten_image, twenty_image, fifty_image, hundred_image, two_hundred_image, five_hundred_image, two_thoushand_image]\n",
    "\n",
    "dd_dir_lst  = ['Rs.10', 'Rs.20', 'Rs.50', 'Rs.100', 'Rs.200', 'Rs.500', 'Rs.2000']\n"
   ]
  },
  {
   "cell_type": "code",
   "execution_count": 30,
   "id": "5290a8ff",
   "metadata": {},
   "outputs": [],
   "source": [
    "for i in dd:\n",
    "    \n",
    "    for j in i:\n",
    "        \n",
    "        if j.endswith('jpg')==False:\n",
    "            print(j)\n",
    "    "
   ]
  },
  {
   "cell_type": "code",
   "execution_count": 31,
   "id": "e27ccebe",
   "metadata": {},
   "outputs": [],
   "source": [
    "# creating dataset direcotry\n",
    "if not os.path.exists('./Dataset/'):\n",
    "    os.mkdir('./Dataset')\n",
    "\n",
    "# creating train and test directory inside the Dataset directory\n",
    "\n",
    "if not os.path.exists('./Dataset/train/'):\n",
    "    os.mkdir('./Dataset/train')\n",
    "\n",
    "if not os.path.exists('./Dataset/test/'):\n",
    "\n",
    "    os.mkdir('./Dataset/test')"
   ]
  },
  {
   "cell_type": "code",
   "execution_count": null,
   "id": "b4ab49dc",
   "metadata": {},
   "outputs": [],
   "source": []
  },
  {
   "cell_type": "code",
   "execution_count": 32,
   "id": "6847fb96",
   "metadata": {},
   "outputs": [],
   "source": [
    "def train_test_split(denomination, denomination_name):\n",
    "    \n",
    "    image_resize = (360,360)\n",
    "    \n",
    "    denomination_train = random.sample(denomination, int(len(denomination)*.8))\n",
    "    denomination_test = list(set(denomination) - set(denomination_train))\n",
    "    \n",
    "    \n",
    "    \n",
    "    \n",
    "    train_destination_address = f'./Dataset/train/{denomination_name}'\n",
    "    \n",
    "    if not os.path.exists(train_destination_address):\n",
    "        \n",
    "        os.mkdir(train_destination_address)\n",
    "    \n",
    "    for image_name in tqdm(denomination_train):\n",
    "        \n",
    "        if image_name.endswith('jpg'):\n",
    "            \n",
    "            image = imageio.v2.imread(f'./raw_dataset/{denomination_name}/' + image_name)\n",
    "            resized_image = cv2.resize(image, image_resize, interpolation = cv2.INTER_AREA)\n",
    "            \n",
    "            imageio.imwrite(f'{train_destination_address}/{image_name}', resized_image)\n",
    "#     \n",
    "    \n",
    "    test_destination_address = f'./Dataset/test/{denomination_name}'\n",
    "    \n",
    "    if not os.path.exists(test_destination_address):\n",
    "        \n",
    "        os.mkdir(test_destination_address)\n",
    "    \n",
    "    \n",
    "    for image_name in tqdm(denomination_test):\n",
    "        \n",
    "        if image_name.endswith('jpg'):\n",
    "            \n",
    "            image = imageio.v2.imread(f'./raw_dataset/{denomination_name}/' + image_name)\n",
    "            resized_image = cv2.resize(image, image_resize, interpolation = cv2.INTER_AREA)\n",
    "            \n",
    "            imageio.imwrite(f'{test_destination_address}/{image_name}', resized_image)\n",
    "    \n",
    "    \n",
    "    "
   ]
  },
  {
   "cell_type": "code",
   "execution_count": null,
   "id": "0100d116",
   "metadata": {},
   "outputs": [],
   "source": []
  },
  {
   "cell_type": "code",
   "execution_count": 33,
   "id": "55d1c2bc",
   "metadata": {},
   "outputs": [
    {
     "name": "stderr",
     "output_type": "stream",
     "text": [
      "100%|██████████████████████████████████████████████████████████████████████████████| 1005/1005 [01:08<00:00, 14.69it/s]\n",
      "100%|████████████████████████████████████████████████████████████████████████████████| 252/252 [00:17<00:00, 14.74it/s]\n"
     ]
    }
   ],
   "source": [
    "train_test_split(ten_image, 'Rs.10')"
   ]
  },
  {
   "cell_type": "code",
   "execution_count": 34,
   "id": "68f8fcb5",
   "metadata": {},
   "outputs": [
    {
     "name": "stderr",
     "output_type": "stream",
     "text": [
      "100%|██████████████████████████████████████████████████████████████████████████████| 1149/1149 [00:28<00:00, 40.05it/s]\n",
      "100%|████████████████████████████████████████████████████████████████████████████████| 288/288 [00:09<00:00, 31.31it/s]\n"
     ]
    }
   ],
   "source": [
    "train_test_split(twenty_image, 'Rs.20')"
   ]
  },
  {
   "cell_type": "code",
   "execution_count": 35,
   "id": "f67f2e5e",
   "metadata": {},
   "outputs": [
    {
     "name": "stderr",
     "output_type": "stream",
     "text": [
      "100%|██████████████████████████████████████████████████████████████████████████████| 1143/1143 [02:10<00:00,  8.77it/s]\n",
      "100%|████████████████████████████████████████████████████████████████████████████████| 286/286 [00:28<00:00, 10.09it/s]\n"
     ]
    }
   ],
   "source": [
    "train_test_split(fifty_image, 'Rs.50')"
   ]
  },
  {
   "cell_type": "code",
   "execution_count": 36,
   "id": "bb7c74e2",
   "metadata": {},
   "outputs": [
    {
     "name": "stderr",
     "output_type": "stream",
     "text": [
      "100%|██████████████████████████████████████████████████████████████████████████████| 1468/1468 [03:36<00:00,  6.79it/s]\n",
      "100%|████████████████████████████████████████████████████████████████████████████████| 367/367 [00:51<00:00,  7.16it/s]\n"
     ]
    }
   ],
   "source": [
    "train_test_split(hundred_image, 'Rs.100')"
   ]
  },
  {
   "cell_type": "code",
   "execution_count": 37,
   "id": "a8d7d22e",
   "metadata": {},
   "outputs": [
    {
     "name": "stderr",
     "output_type": "stream",
     "text": [
      "100%|██████████████████████████████████████████████████████████████████████████████| 1279/1279 [04:57<00:00,  4.31it/s]\n",
      "100%|████████████████████████████████████████████████████████████████████████████████| 320/320 [01:10<00:00,  4.53it/s]\n"
     ]
    }
   ],
   "source": [
    "train_test_split(two_hundred_image, 'Rs.200')"
   ]
  },
  {
   "cell_type": "code",
   "execution_count": 38,
   "id": "3a870a9d",
   "metadata": {},
   "outputs": [
    {
     "name": "stderr",
     "output_type": "stream",
     "text": [
      "100%|██████████████████████████████████████████████████████████████████████████████| 1110/1110 [03:39<00:00,  5.07it/s]\n",
      "100%|████████████████████████████████████████████████████████████████████████████████| 278/278 [00:53<00:00,  5.23it/s]\n"
     ]
    }
   ],
   "source": [
    "train_test_split(five_hundred_image, 'Rs.500')"
   ]
  },
  {
   "cell_type": "code",
   "execution_count": 39,
   "id": "ee8fb7f0",
   "metadata": {},
   "outputs": [
    {
     "name": "stderr",
     "output_type": "stream",
     "text": [
      "100%|██████████████████████████████████████████████████████████████████████████████| 1202/1202 [03:53<00:00,  5.14it/s]\n",
      "100%|████████████████████████████████████████████████████████████████████████████████| 301/301 [01:00<00:00,  4.96it/s]\n"
     ]
    }
   ],
   "source": [
    "train_test_split(two_thoushand_image, 'Rs.2000')"
   ]
  },
  {
   "cell_type": "code",
   "execution_count": null,
   "id": "47ab615e",
   "metadata": {},
   "outputs": [],
   "source": []
  }
 ],
 "metadata": {
  "kernelspec": {
   "display_name": "Python 3 (ipykernel)",
   "language": "python",
   "name": "python3"
  },
  "language_info": {
   "codemirror_mode": {
    "name": "ipython",
    "version": 3
   },
   "file_extension": ".py",
   "mimetype": "text/x-python",
   "name": "python",
   "nbconvert_exporter": "python",
   "pygments_lexer": "ipython3",
   "version": "3.8.9"
  },
  "toc": {
   "base_numbering": 1,
   "nav_menu": {},
   "number_sections": true,
   "sideBar": true,
   "skip_h1_title": false,
   "title_cell": "Table of Contents",
   "title_sidebar": "Contents",
   "toc_cell": false,
   "toc_position": {},
   "toc_section_display": true,
   "toc_window_display": false
  }
 },
 "nbformat": 4,
 "nbformat_minor": 5
}
