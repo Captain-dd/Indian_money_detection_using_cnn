{
 "cells": [
  {
   "cell_type": "code",
   "execution_count": 17,
   "id": "d6ebf7be",
   "metadata": {
    "ExecuteTime": {
     "end_time": "2022-08-09T19:34:13.679916Z",
     "start_time": "2022-08-09T19:34:13.662245Z"
    }
   },
   "outputs": [],
   "source": [
    "from keras.layers import Input, Lambda, Dense, Flatten\n",
    "\n",
    "from tensorflow.keras.layers import Conv2D\n",
    "from tensorflow.keras import layers, models\n",
    "\n",
    "import tensorflow as tf\n",
    "\n",
    "import matplotlib.pyplot as plt"
   ]
  },
  {
   "cell_type": "code",
   "execution_count": 94,
   "id": "9dde1d75",
   "metadata": {
    "ExecuteTime": {
     "end_time": "2022-08-09T19:46:20.436202Z",
     "start_time": "2022-08-09T19:46:20.418176Z"
    }
   },
   "outputs": [],
   "source": [
    "IMAGE_SIZE = 150\n",
    "BATCH_SIZE = 100"
   ]
  },
  {
   "cell_type": "code",
   "execution_count": 95,
   "id": "10bbd93f",
   "metadata": {
    "ExecuteTime": {
     "end_time": "2022-08-09T19:46:20.732264Z",
     "start_time": "2022-08-09T19:46:20.718301Z"
    }
   },
   "outputs": [
    {
     "data": {
      "text/plain": [
       "[PhysicalDevice(name='/physical_device:CPU:0', device_type='CPU'),\n",
       " PhysicalDevice(name='/physical_device:GPU:0', device_type='GPU')]"
      ]
     },
     "execution_count": 95,
     "metadata": {},
     "output_type": "execute_result"
    }
   ],
   "source": [
    "tf.config.list_physical_devices()"
   ]
  },
  {
   "cell_type": "code",
   "execution_count": 96,
   "id": "9f68fda4",
   "metadata": {
    "ExecuteTime": {
     "end_time": "2022-08-09T19:46:20.948981Z",
     "start_time": "2022-08-09T19:46:20.931340Z"
    }
   },
   "outputs": [
    {
     "data": {
      "text/plain": [
       "[LogicalDevice(name='/device:CPU:0', device_type='CPU'),\n",
       " LogicalDevice(name='/device:GPU:0', device_type='GPU')]"
      ]
     },
     "execution_count": 96,
     "metadata": {},
     "output_type": "execute_result"
    }
   ],
   "source": [
    "tf.config.list_logical_devices()"
   ]
  },
  {
   "cell_type": "code",
   "execution_count": null,
   "id": "226ce1a6",
   "metadata": {},
   "outputs": [],
   "source": []
  },
  {
   "cell_type": "code",
   "execution_count": 97,
   "id": "64b60736",
   "metadata": {
    "ExecuteTime": {
     "end_time": "2022-08-09T19:46:21.448450Z",
     "start_time": "2022-08-09T19:46:21.431494Z"
    }
   },
   "outputs": [],
   "source": [
    "# loading images using tensorflow input pipeline"
   ]
  },
  {
   "cell_type": "code",
   "execution_count": 98,
   "id": "383c6e8b",
   "metadata": {
    "ExecuteTime": {
     "end_time": "2022-08-09T19:46:21.965139Z",
     "start_time": "2022-08-09T19:46:21.655301Z"
    }
   },
   "outputs": [
    {
     "name": "stdout",
     "output_type": "stream",
     "text": [
      "Found 8356 files belonging to 7 classes.\n"
     ]
    }
   ],
   "source": [
    "train_ds_ = tf.keras.utils.image_dataset_from_directory(\n",
    "\n",
    "    directory='./Dataset/train/',\n",
    "    image_size=(IMAGE_SIZE, IMAGE_SIZE),\n",
    "    batch_size=BATCH_SIZE,\n",
    "    shuffle=True\n",
    ")"
   ]
  },
  {
   "cell_type": "code",
   "execution_count": 99,
   "id": "e9017a27",
   "metadata": {
    "ExecuteTime": {
     "end_time": "2022-08-09T19:46:22.073349Z",
     "start_time": "2022-08-09T19:46:21.967131Z"
    }
   },
   "outputs": [
    {
     "name": "stdout",
     "output_type": "stream",
     "text": [
      "Found 2092 files belonging to 7 classes.\n"
     ]
    }
   ],
   "source": [
    "test_ds = tf.keras.utils.image_dataset_from_directory(\n",
    "\n",
    "    directory='./Dataset/test/',\n",
    "    image_size=(IMAGE_SIZE, IMAGE_SIZE),\n",
    "    batch_size=BATCH_SIZE,\n",
    "    shuffle=True\n",
    ")"
   ]
  },
  {
   "cell_type": "code",
   "execution_count": 100,
   "id": "daa86bd1",
   "metadata": {
    "ExecuteTime": {
     "end_time": "2022-08-09T19:46:22.089302Z",
     "start_time": "2022-08-09T19:46:22.080325Z"
    }
   },
   "outputs": [
    {
     "data": {
      "text/plain": [
       "67"
      ]
     },
     "execution_count": 100,
     "metadata": {},
     "output_type": "execute_result"
    }
   ],
   "source": [
    "train_size = 0.8\n",
    "int(len(train_ds_)*train_size)\n"
   ]
  },
  {
   "cell_type": "code",
   "execution_count": 101,
   "id": "e9fbc2ba",
   "metadata": {
    "ExecuteTime": {
     "end_time": "2022-08-09T19:46:22.277028Z",
     "start_time": "2022-08-09T19:46:22.263650Z"
    }
   },
   "outputs": [
    {
     "data": {
      "text/plain": [
       "67"
      ]
     },
     "execution_count": 101,
     "metadata": {},
     "output_type": "execute_result"
    }
   ],
   "source": [
    "train_ds = train_ds_.take(int(len(train_ds_)*train_size)) # it same as array[:400] same as array slicing\n",
    "len(train_ds)"
   ]
  },
  {
   "cell_type": "code",
   "execution_count": 102,
   "id": "2104d080",
   "metadata": {
    "ExecuteTime": {
     "end_time": "2022-08-09T19:46:22.480158Z",
     "start_time": "2022-08-09T19:46:22.463326Z"
    }
   },
   "outputs": [
    {
     "data": {
      "text/plain": [
       "17"
      ]
     },
     "execution_count": 102,
     "metadata": {},
     "output_type": "execute_result"
    }
   ],
   "source": [
    "validation_ds = train_ds_.skip(int(len(train_ds_)*train_size))\n",
    "len(validation_ds)"
   ]
  },
  {
   "cell_type": "code",
   "execution_count": 103,
   "id": "772f7b3b",
   "metadata": {
    "ExecuteTime": {
     "end_time": "2022-08-09T19:46:22.901841Z",
     "start_time": "2022-08-09T19:46:22.890544Z"
    }
   },
   "outputs": [
    {
     "data": {
      "text/plain": [
       "['Rs.10', 'Rs.100', 'Rs.20', 'Rs.200', 'Rs.2000', 'Rs.50', 'Rs.500']"
      ]
     },
     "execution_count": 103,
     "metadata": {},
     "output_type": "execute_result"
    }
   ],
   "source": [
    "class_names = test_ds.class_names\n",
    "class_names"
   ]
  },
  {
   "cell_type": "code",
   "execution_count": null,
   "id": "e2c9e3ec",
   "metadata": {},
   "outputs": [],
   "source": []
  },
  {
   "cell_type": "code",
   "execution_count": 104,
   "id": "4c8691c2",
   "metadata": {
    "ExecuteTime": {
     "end_time": "2022-08-09T19:46:23.776200Z",
     "start_time": "2022-08-09T19:46:23.755318Z"
    }
   },
   "outputs": [],
   "source": [
    "resize_rescale = tf.keras.Sequential([\n",
    "    \n",
    "    layers.experimental.preprocessing.Resizing(IMAGE_SIZE, IMAGE_SIZE),\n",
    "    \n",
    "    layers.experimental.preprocessing.Rescaling(1.0/255)\n",
    "])"
   ]
  },
  {
   "cell_type": "code",
   "execution_count": 111,
   "id": "d5eaabbe",
   "metadata": {
    "ExecuteTime": {
     "end_time": "2022-08-09T19:53:32.824020Z",
     "start_time": "2022-08-09T19:53:32.805835Z"
    }
   },
   "outputs": [
    {
     "data": {
      "text/plain": [
       "(100, 150, 150, 3)"
      ]
     },
     "execution_count": 111,
     "metadata": {},
     "output_type": "execute_result"
    }
   ],
   "source": [
    "input_shape = (BATCH_SIZE, IMAGE_SIZE, IMAGE_SIZE, 3)\n",
    "\n",
    "kernal_size = (3,3)\n",
    "\n",
    "EPOCHS = 15\n",
    "input_shape"
   ]
  },
  {
   "cell_type": "code",
   "execution_count": 112,
   "id": "d58f72d5",
   "metadata": {
    "ExecuteTime": {
     "end_time": "2022-08-09T19:53:33.166584Z",
     "start_time": "2022-08-09T19:53:33.143710Z"
    }
   },
   "outputs": [],
   "source": [
    "model = models.Sequential([\n",
    "    \n",
    "    resize_rescale,\n",
    "    \n",
    "    # first layer\n",
    "    Conv2D(32, kernel_size = kernal_size, \n",
    "           activation = 'relu', input_shape = input_shape),\n",
    "    \n",
    "    \n",
    "    # second layer\n",
    "    Conv2D(64, kernel_size = kernal_size,\n",
    "            activation='relu'),\n",
    "    layers.MaxPooling2D((2,2)),\n",
    "    \n",
    "    \n",
    "    # third layer\n",
    "    Conv2D(64, kernel_size = kernal_size,\n",
    "            activation='relu'),\n",
    "    layers.MaxPooling2D((2,2)),\n",
    "    \n",
    "    \n",
    "    # fourth layer\n",
    "    Conv2D(128, kernel_size = kernal_size,\n",
    "            activation='relu'),\n",
    "    layers.MaxPooling2D((2,2)),\n",
    "    \n",
    "    # fifth layer\n",
    "    layers.Conv2D(256, \n",
    "                  kernel_size = (3,3), \n",
    "                  activation='relu'),\n",
    "    layers.MaxPooling2D((2,2)),\n",
    "    \n",
    "    layers.Flatten(),\n",
    "    layers.Dense(64, activation='relu'),\n",
    "    layers.Dense(7, activation='softmax')\n",
    "    \n",
    "    \n",
    "])"
   ]
  },
  {
   "cell_type": "code",
   "execution_count": 113,
   "id": "e0e3d399",
   "metadata": {
    "ExecuteTime": {
     "end_time": "2022-08-09T19:53:33.554070Z",
     "start_time": "2022-08-09T19:53:33.490700Z"
    }
   },
   "outputs": [],
   "source": [
    "model.build(input_shape=input_shape)"
   ]
  },
  {
   "cell_type": "code",
   "execution_count": 114,
   "id": "f65baba0",
   "metadata": {
    "ExecuteTime": {
     "end_time": "2022-08-09T19:53:33.865629Z",
     "start_time": "2022-08-09T19:53:33.839923Z"
    }
   },
   "outputs": [
    {
     "name": "stdout",
     "output_type": "stream",
     "text": [
      "Model: \"sequential_12\"\n",
      "_________________________________________________________________\n",
      " Layer (type)                Output Shape              Param #   \n",
      "=================================================================\n",
      " sequential_10 (Sequential)  (None, 150, 150, 3)       0         \n",
      "                                                                 \n",
      " conv2d_30 (Conv2D)          (100, 148, 148, 32)       896       \n",
      "                                                                 \n",
      " conv2d_31 (Conv2D)          (100, 146, 146, 64)       18496     \n",
      "                                                                 \n",
      " max_pooling2d_24 (MaxPoolin  (100, 73, 73, 64)        0         \n",
      " g2D)                                                            \n",
      "                                                                 \n",
      " conv2d_32 (Conv2D)          (100, 71, 71, 64)         36928     \n",
      "                                                                 \n",
      " max_pooling2d_25 (MaxPoolin  (100, 35, 35, 64)        0         \n",
      " g2D)                                                            \n",
      "                                                                 \n",
      " conv2d_33 (Conv2D)          (100, 33, 33, 128)        73856     \n",
      "                                                                 \n",
      " max_pooling2d_26 (MaxPoolin  (100, 16, 16, 128)       0         \n",
      " g2D)                                                            \n",
      "                                                                 \n",
      " conv2d_34 (Conv2D)          (100, 14, 14, 256)        295168    \n",
      "                                                                 \n",
      " max_pooling2d_27 (MaxPoolin  (100, 7, 7, 256)         0         \n",
      " g2D)                                                            \n",
      "                                                                 \n",
      " flatten_6 (Flatten)         (100, 12544)              0         \n",
      "                                                                 \n",
      " dense_12 (Dense)            (100, 64)                 802880    \n",
      "                                                                 \n",
      " dense_13 (Dense)            (100, 7)                  455       \n",
      "                                                                 \n",
      "=================================================================\n",
      "Total params: 1,228,679\n",
      "Trainable params: 1,228,679\n",
      "Non-trainable params: 0\n",
      "_________________________________________________________________\n"
     ]
    }
   ],
   "source": [
    "model.summary()"
   ]
  },
  {
   "cell_type": "code",
   "execution_count": 115,
   "id": "6b4a3769",
   "metadata": {
    "ExecuteTime": {
     "end_time": "2022-08-09T19:53:34.145979Z",
     "start_time": "2022-08-09T19:53:34.126328Z"
    }
   },
   "outputs": [],
   "source": [
    "model.compile(\n",
    "\n",
    "    optimizer='adam',\n",
    "    loss=tf.keras.losses.SparseCategoricalCrossentropy(from_logits=False),\n",
    "    metrics=['accuracy']\n",
    ")"
   ]
  },
  {
   "cell_type": "code",
   "execution_count": 116,
   "id": "1f07a8ee",
   "metadata": {
    "ExecuteTime": {
     "end_time": "2022-08-09T20:00:10.857898Z",
     "start_time": "2022-08-09T19:53:34.486327Z"
    }
   },
   "outputs": [
    {
     "name": "stdout",
     "output_type": "stream",
     "text": [
      "Epoch 1/15\n",
      "67/67 [==============================] - 27s 390ms/step - loss: 1.7953 - accuracy: 0.2627 - val_loss: 1.4694 - val_accuracy: 0.4450\n",
      "Epoch 2/15\n",
      "67/67 [==============================] - 26s 390ms/step - loss: 1.2179 - accuracy: 0.5264 - val_loss: 1.1128 - val_accuracy: 0.5664\n",
      "Epoch 3/15\n",
      "67/67 [==============================] - 27s 403ms/step - loss: 0.9057 - accuracy: 0.6485 - val_loss: 0.7991 - val_accuracy: 0.6866\n",
      "Epoch 4/15\n",
      "67/67 [==============================] - 27s 397ms/step - loss: 0.7935 - accuracy: 0.6958 - val_loss: 0.7816 - val_accuracy: 0.6926\n",
      "Epoch 5/15\n",
      "67/67 [==============================] - 27s 399ms/step - loss: 0.6678 - accuracy: 0.7419 - val_loss: 0.5359 - val_accuracy: 0.7977\n",
      "Epoch 6/15\n",
      "67/67 [==============================] - 27s 398ms/step - loss: 0.5471 - accuracy: 0.7939 - val_loss: 0.5488 - val_accuracy: 0.8001\n",
      "Epoch 7/15\n",
      "67/67 [==============================] - 26s 384ms/step - loss: 0.4786 - accuracy: 0.8206 - val_loss: 0.4454 - val_accuracy: 0.8279\n",
      "Epoch 8/15\n",
      "67/67 [==============================] - 26s 389ms/step - loss: 0.4309 - accuracy: 0.8424 - val_loss: 0.6608 - val_accuracy: 0.7669\n",
      "Epoch 9/15\n",
      "67/67 [==============================] - 26s 390ms/step - loss: 0.3947 - accuracy: 0.8561 - val_loss: 0.5477 - val_accuracy: 0.7971\n",
      "Epoch 10/15\n",
      "67/67 [==============================] - 26s 388ms/step - loss: 0.3030 - accuracy: 0.8869 - val_loss: 0.3742 - val_accuracy: 0.8629\n",
      "Epoch 11/15\n",
      "67/67 [==============================] - 26s 389ms/step - loss: 0.3020 - accuracy: 0.8904 - val_loss: 0.4181 - val_accuracy: 0.8641\n",
      "Epoch 12/15\n",
      "67/67 [==============================] - 26s 391ms/step - loss: 0.2238 - accuracy: 0.9191 - val_loss: 0.3015 - val_accuracy: 0.8913\n",
      "Epoch 13/15\n",
      "67/67 [==============================] - 26s 388ms/step - loss: 0.2399 - accuracy: 0.9148 - val_loss: 0.3977 - val_accuracy: 0.8611\n",
      "Epoch 14/15\n",
      "67/67 [==============================] - 26s 388ms/step - loss: 0.1977 - accuracy: 0.9300 - val_loss: 0.2896 - val_accuracy: 0.9052\n",
      "Epoch 15/15\n",
      "67/67 [==============================] - 26s 384ms/step - loss: 0.1346 - accuracy: 0.9504 - val_loss: 0.2371 - val_accuracy: 0.9239\n"
     ]
    }
   ],
   "source": [
    "with tf.device('/GPU:0'):\n",
    "    model_hist = model.fit(\n",
    "            train_ds, \n",
    "            batch_size=BATCH_SIZE,\n",
    "            validation_data=validation_ds,\n",
    "             verbose=1,\n",
    "            epochs=EPOCHS)"
   ]
  },
  {
   "cell_type": "code",
   "execution_count": 119,
   "id": "25c89e8c",
   "metadata": {
    "ExecuteTime": {
     "end_time": "2022-08-09T20:00:57.386623Z",
     "start_time": "2022-08-09T20:00:56.739101Z"
    }
   },
   "outputs": [
    {
     "name": "stdout",
     "output_type": "stream",
     "text": [
      "first image to predict\n",
      "actual label: Rs.200\n",
      "predicted label: Rs.200\n"
     ]
    },
    {
     "data": {
      "image/png": "[encoded data removed]",
      "text/plain": [
       "<Figure size 432x288 with 1 Axes>"
      ]
     },
     "metadata": {
      "needs_background": "light"
     },
     "output_type": "display_data"
    }
   ],
   "source": [
    "import numpy as np\n",
    "\n",
    "for image_batch, label_batch in test_ds.take(1):\n",
    "    \n",
    "    # reading first image from batch\n",
    "    first_image = image_batch[0].numpy().astype('uint8')\n",
    "    \n",
    "    # reading first image label from batch\n",
    "    first_label = label_batch[0].numpy()\n",
    "    \n",
    "    print(\"first image to predict\")\n",
    "    plt.imshow(first_image)\n",
    "    print(\"actual label:\",class_names[first_label])\n",
    "    \n",
    "    batch_prediction = model.predict(image_batch)\n",
    "    print(\"predicted label:\",class_names[np.argmax(batch_prediction[0])])"
   ]
  },
  {
   "cell_type": "code",
   "execution_count": null,
   "id": "d5ebcbc0",
   "metadata": {},
   "outputs": [],
   "source": []
  }
 ],
 "metadata": {
  "kernelspec": {
   "display_name": "Python 3 (ipykernel)",
   "language": "python",
   "name": "python3"
  },
  "language_info": {
   "codemirror_mode": {
    "name": "ipython",
    "version": 3
   },
   "file_extension": ".py",
   "mimetype": "text/x-python",
   "name": "python",
   "nbconvert_exporter": "python",
   "pygments_lexer": "ipython3",
   "version": "3.8.9"
  },
  "toc": {
   "base_numbering": 1,
   "nav_menu": {},
   "number_sections": true,
   "sideBar": true,
   "skip_h1_title": false,
   "title_cell": "Table of Contents",
   "title_sidebar": "Contents",
   "toc_cell": false,
   "toc_position": {},
   "toc_section_display": true,
   "toc_window_display": false
  }
 },
 "nbformat": 4,
 "nbformat_minor": 5
}
